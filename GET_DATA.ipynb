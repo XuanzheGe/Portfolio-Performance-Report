{
 "cells": [
  {
   "cell_type": "code",
   "execution_count": null,
   "metadata": {},
   "outputs": [],
   "source": [
    "from blp import blp\n",
    "import numpy as np\n",
    "import pandas as pd\n",
    "\n",
    "bquery = blp.BlpQuery().start()\n",
    "\n",
    "TICKETS = ['SEK', 'NOK', 'GBP', 'EUR', 'DKK', 'CHF', 'PLN', 'CZK', 'ISK', 'USD']\n",
    "\n",
    "fx_data = bquery.bdh(\n",
    "    [x for x in TICKETS],\n",
    "    ['PX_LAST'],  # possibly useful fields: 'RETURN_COM_EQY', 'TOT_DEBT_TO_TOT_EQY',\n",
    "                                    # 'IS_EPS', 'TRAIL_12M_EPS', 'NET_INCOME' (to be confirmed)\n",
    "    start_date='20020101',\n",
    "    end_date='20231130',\n",
    ")\n",
    "daily_fx = fx_data.pivot_table(index='date', columns='security', aggfunc=lambda x: x, fill_value=np.nan)[\"PX_LAST\"]\n",
    "daily_fx.columns = [col.replace('Curncy', '') for col in daily_fx.columns]\n",
    "\n"
   ]
  }
 ],
 "metadata": {
  "language_info": {
   "name": "python"
  }
 },
 "nbformat": 4,
 "nbformat_minor": 2
}
